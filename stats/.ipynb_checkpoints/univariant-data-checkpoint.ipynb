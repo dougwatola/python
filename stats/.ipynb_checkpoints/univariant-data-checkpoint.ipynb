{
 "cells": [
  {
   "cell_type": "code",
   "execution_count": 1,
   "metadata": {},
   "outputs": [],
   "source": [
    "#library import\n",
    "import numpy as np"
   ]
  },
  {
   "cell_type": "code",
   "execution_count": 2,
   "metadata": {},
   "outputs": [
    {
     "name": "stdout",
     "output_type": "stream",
     "text": [
      "<class 'numpy.ndarray'>\n",
      "(3,)\n",
      "1\n"
     ]
    }
   ],
   "source": [
    "#play with basic numpy arrays\n",
    "a = np.array([1,2,3])   #create 3x1 array\n",
    "\n",
    "print(type(a))   #print data type\n",
    "\n",
    "print(a.shape)   #print shape of array\n",
    "\n",
    "print(a[0])   #print first element of array"
   ]
  },
  {
   "cell_type": "code",
   "execution_count": 3,
   "metadata": {},
   "outputs": [
    {
     "name": "stdout",
     "output_type": "stream",
     "text": [
      "(2, 2)\n",
      "2\n"
     ]
    }
   ],
   "source": [
    "# 2 x 2 array\n",
    "b = np.array ([[1,2],[3,4]])\n",
    "\n",
    "print(b.shape)\n",
    "\n",
    "print(b[0,1])"
   ]
  },
  {
   "cell_type": "code",
   "execution_count": 4,
   "metadata": {},
   "outputs": [
    {
     "name": "stdout",
     "output_type": "stream",
     "text": [
      "[[0. 0. 0.]\n",
      " [0. 0. 0.]]\n",
      "[[9 9]\n",
      " [9 9]]\n",
      "[[0.29626581 0.59233571 0.82308728]\n",
      " [0.51423285 0.43857264 0.66382301]\n",
      " [0.20120796 0.0457122  0.24935347]]\n"
     ]
    }
   ],
   "source": [
    "# generate numbers for an array\n",
    "\n",
    "# create 2 x 3 array with zeros\n",
    "d = np.zeros((2,3))\n",
    "\n",
    "print(d)\n",
    "\n",
    "# create 2 x 2 array with all 9s\n",
    "f = np.full((2,2), 9)\n",
    "\n",
    "print(f)\n",
    "\n",
    "# create 3 x 3 array with random numbers\n",
    "g = np.random.random((3,3))\n",
    "# How do you set random integers???\n",
    "\n",
    "print(g)"
   ]
  },
  {
   "cell_type": "markdown",
   "metadata": {},
   "source": [
    "Slicing arrays\n",
    "Slicing in python means taking elements from one given index to another given index.\n",
    "\n",
    "We pass slice instead of index like this: [start:end].\n",
    "\n",
    "We can also define the step, like this: [start:end:step].\n",
    "\n",
    "If we don't pass start its considered 0\n",
    "\n",
    "If we don't pass end its considered length of array in that dimension\n",
    "\n",
    "If we don't pass step its considered 1"
   ]
  },
  {
   "cell_type": "code",
   "execution_count": 5,
   "metadata": {},
   "outputs": [
    {
     "name": "stdout",
     "output_type": "stream",
     "text": [
      "[[2 3]\n",
      " [5 6]]\n"
     ]
    }
   ],
   "source": [
    "# Array slicing\n",
    "\n",
    "h = np.array([[1,2,3], [4,5,6], [7,8,9]])\n",
    "#print(h)\n",
    "\n",
    "i = h[:2, 1:3]\n",
    "\n",
    "print(i)\n",
    "\n",
    "# I NEED TO REVIEW THIS MORE"
   ]
  },
  {
   "cell_type": "code",
   "execution_count": 7,
   "metadata": {},
   "outputs": [
    {
     "name": "stdout",
     "output_type": "stream",
     "text": [
      "int32\n",
      "float64\n",
      "int64\n"
     ]
    }
   ],
   "source": [
    "# Datatypes in Arrays\n",
    "\n",
    "#This will be processed as integer\n",
    "j = np.array([1,2])\n",
    "print(j.dtype)\n",
    "\n",
    "#This will be processed as a float\n",
    "k = np.array ([1.0, 2.0])\n",
    "print(k.dtype)\n",
    "\n",
    "#Set datatype with dtype\n",
    "l = np.array([1.0, 2.0], dtype = np.int64)\n",
    "print(l.dtype)"
   ]
  },
  {
   "cell_type": "markdown",
   "metadata": {},
   "source": [
    "#Array Math"
   ]
  },
  {
   "cell_type": "code",
   "execution_count": 16,
   "metadata": {},
   "outputs": [
    {
     "name": "stdout",
     "output_type": "stream",
     "text": [
      "[[ 6.  8.]\n",
      " [10. 12.]]\n",
      "[[ 6.  8.]\n",
      " [10. 12.]]\n",
      "[[-4. -4.]\n",
      " [-4. -4.]]\n",
      "[[-4. -4.]\n",
      " [-4. -4.]]\n"
     ]
    }
   ],
   "source": [
    "x = np.array([[1,2],[3,4]], dtype=np.float64)\n",
    "y = np.array([[5,6],[7,8]], dtype=np.float64)\n",
    "\n",
    "#Sum of elements; sum of the array\n",
    "print (x + y)\n",
    "print(np.add(x,y))\n",
    "#Is this different?  If so, how?\n",
    "\n",
    "#Element difference\n",
    "print(x - y)\n",
    "print(np.subtract(x,y))"
   ]
  },
  {
   "cell_type": "code",
   "execution_count": 19,
   "metadata": {},
   "outputs": [
    {
     "name": "stdout",
     "output_type": "stream",
     "text": [
      "[[ 5. 12.]\n",
      " [21. 32.]]\n",
      "[[ 5. 12.]\n",
      " [21. 32.]]\n",
      "[[0.2        0.33333333]\n",
      " [0.42857143 0.5       ]]\n",
      "[[0.2        0.33333333]\n",
      " [0.42857143 0.5       ]]\n",
      "[[1.         1.41421356]\n",
      " [1.73205081 2.        ]]\n"
     ]
    }
   ],
   "source": [
    "#Product of elements\n",
    "print(x * y)\n",
    "print(np.multiply(x,y))\n",
    "\n",
    "#Division of elements\n",
    "print(x/y)\n",
    "print(np.divide(x,y))\n",
    "\n",
    "#Square root of elements\n",
    "print(np.sqrt(x))"
   ]
  },
  {
   "cell_type": "code",
   "execution_count": null,
   "metadata": {},
   "outputs": [],
   "source": []
  }
 ],
 "metadata": {
  "kernelspec": {
   "display_name": "Python 3",
   "language": "python",
   "name": "python3"
  },
  "language_info": {
   "codemirror_mode": {
    "name": "ipython",
    "version": 3
   },
   "file_extension": ".py",
   "mimetype": "text/x-python",
   "name": "python",
   "nbconvert_exporter": "python",
   "pygments_lexer": "ipython3",
   "version": "3.7.3"
  }
 },
 "nbformat": 4,
 "nbformat_minor": 4
}
