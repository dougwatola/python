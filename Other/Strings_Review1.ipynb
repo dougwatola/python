{
 "cells": [
  {
   "cell_type": "code",
   "execution_count": 43,
   "metadata": {},
   "outputs": [
    {
     "name": "stdout",
     "output_type": "stream",
     "text": [
      "True\n",
      "False\n",
      "True\n"
     ]
    }
   ],
   "source": [
    "def is_palindrome(input_string):\n",
    "    # We'll create two strings, to compare them\n",
    "    new_string = \"\"\n",
    "    reverse_string = \"\"\n",
    "    #set input string to all lower case\n",
    "    input_string = input_string.lower()\n",
    "    # Traverse through each letter of the input string\n",
    "    for x in input_string:\n",
    "        # Add any non-blank letters to the \n",
    "        # end of one string, and to the front\n",
    "        # of the other string. \n",
    "        if (x == \" \"):\n",
    "            x = \"\"\n",
    "        else:\n",
    "            new_string = new_string + x\n",
    "            reverse_string = x + reverse_string\n",
    "    # Compare the strings\n",
    "    if (new_string == reverse_string):\n",
    "        return True\n",
    "    return False\n",
    "print(is_palindrome(\"Never Odd or Even\")) # Should be True\n",
    "print(is_palindrome(\"abc\")) # Should be False\n",
    "print(is_palindrome(\"kayak\")) # Should be True"
   ]
  },
  {
   "cell_type": "code",
   "execution_count": null,
   "metadata": {},
   "outputs": [],
   "source": [
    "input_string = \"abc\"\n",
    "new_string = \"\"\n",
    "reverse_sting = \"\"\n",
    "len_string = len(input_string) - 1\n",
    "\n",
    "string_index = 0\n",
    "\n",
    "new_string = input_string[string_index]\n",
    "reverse_string = input_string[-len_string]\n",
    "new_index =[-len_string]\n",
    "\n",
    "print(new_index)\n",
    "print(reverse_string)\n",
    "\n",
    "print(new_string)"
   ]
  },
  {
   "cell_type": "code",
   "execution_count": 21,
   "metadata": {},
   "outputs": [
    {
     "name": "stdout",
     "output_type": "stream",
     "text": [
      "c\n"
     ]
    }
   ],
   "source": [
    "test = \"abc\"\n",
    "print (test[-1])"
   ]
  },
  {
   "cell_type": "code",
   "execution_count": 37,
   "metadata": {},
   "outputs": [
    {
     "name": "stdout",
     "output_type": "stream",
     "text": [
      "dlroW olleH\n"
     ]
    }
   ],
   "source": [
    "txt = \"Hello World\"\n",
    "reverse_txt = txt[::-1]\n",
    "print(reverse_txt)"
   ]
  },
  {
   "cell_type": "code",
   "execution_count": 11,
   "metadata": {},
   "outputs": [
    {
     "name": "stdout",
     "output_type": "stream",
     "text": [
      "Does this work?\n",
      "D work?\n"
     ]
    }
   ],
   "source": [
    "string_1 = \"Does this\"\n",
    "string_2 = \" work?\"\n",
    "string_3 = string_1 + string_2\n",
    "print(string_3)\n",
    "\n",
    "string_4 = string_1[0] + string_2\n",
    "print(string_4)"
   ]
  },
  {
   "cell_type": "code",
   "execution_count": null,
   "metadata": {},
   "outputs": [],
   "source": [
    "def is_palindrome(input_string):\n",
    "    # We'll create two strings, to compare them\n",
    "    new_string = \"\"\n",
    "    reverse_string = \"\"\n",
    "    # Traverse through each letter of the input string\n",
    "    for ___:\n",
    "        # Add any non-blank letters to the \n",
    "        # end of one string, and to the front\n",
    "        # of the other string. \n",
    "        if ___:\n",
    "            new_string = ___\n",
    "            reverse_string = ___\n",
    "    # Compare the strings\n",
    "    if ___:\n",
    "        return True\n",
    "    return False\n",
    "print(is_palindrome(\"Never Odd or Even\")) # Should be True\n",
    "print(is_palindrome(\"abc\")) # Should be False\n",
    "print(is_palindrome(\"kayak\")) # Should be True"
   ]
  },
  {
   "cell_type": "code",
   "execution_count": 35,
   "metadata": {},
   "outputs": [
    {
     "name": "stdout",
     "output_type": "stream",
     "text": [
      "True\n",
      "n\n",
      "e\n",
      "w\n",
      "o\n",
      "n\n",
      "e\n"
     ]
    }
   ],
   "source": [
    "#x = \"a\"\n",
    "#expression = not(not x)\n",
    "#print(expression)\n",
    "\n",
    "#Check string character for space\n",
    "input_string = \"new one\"\n",
    "new_string = \"\"\n",
    "reverse_string = \"\"\n",
    "\n",
    "for x in input_string:\n",
    "    if (x == \" \"):\n",
    "        x = \"\"\n",
    "    else:\n",
    "        print (x)"
   ]
  },
  {
   "cell_type": "code",
   "execution_count": 36,
   "metadata": {},
   "outputs": [
    {
     "name": "stdout",
     "output_type": "stream",
     "text": [
      "newone\n",
      "enowen\n"
     ]
    }
   ],
   "source": [
    "#Check code to get for loop to run\n",
    "#Remove blank characters\n",
    "\n",
    "input_string = \"new one\"\n",
    "new_string = \"\"\n",
    "reverse_string = \"\"\n",
    "\n",
    "for x in input_string:\n",
    "        # Add any non-blank letters to the \n",
    "        # end of one string, and to the front\n",
    "        # of the other string. \n",
    "        if (x == \" \"):\n",
    "            x = \"\"\n",
    "        else:\n",
    "            new_string = new_string + x\n",
    "            reverse_string = x + reverse_string\n",
    "        \n",
    "print(new_string)\n",
    "print(reverse_string)"
   ]
  },
  {
   "cell_type": "code",
   "execution_count": 39,
   "metadata": {},
   "outputs": [
    {
     "name": "stdout",
     "output_type": "stream",
     "text": [
      "It's different\n"
     ]
    }
   ],
   "source": [
    "x = \"test\"\n",
    "y = \"xtest\"\n",
    "\n",
    "if (x == y):\n",
    "    print(\"It's the same\")\n",
    "else:\n",
    "    print(\"It's different\")"
   ]
  },
  {
   "cell_type": "code",
   "execution_count": null,
   "metadata": {},
   "outputs": [],
   "source": []
  }
 ],
 "metadata": {
  "kernelspec": {
   "display_name": "Python 3",
   "language": "python",
   "name": "python3"
  },
  "language_info": {
   "codemirror_mode": {
    "name": "ipython",
    "version": 3
   },
   "file_extension": ".py",
   "mimetype": "text/x-python",
   "name": "python",
   "nbconvert_exporter": "python",
   "pygments_lexer": "ipython3",
   "version": "3.7.3"
  }
 },
 "nbformat": 4,
 "nbformat_minor": 4
}
