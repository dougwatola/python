{
 "cells": [
  {
   "cell_type": "markdown",
   "metadata": {},
   "source": [
    "Let's create a function that turns text into pig latin: a simple text transformation that modifies each word moving the first character to the end and appending \"ay\" to the end. For example, python ends up as ythonpay.\n"
   ]
  },
  {
   "cell_type": "code",
   "execution_count": 14,
   "metadata": {},
   "outputs": [
    {
     "name": "stdout",
     "output_type": "stream",
     "text": [
      "ellohay owhay reaay ouyay \n",
      "rogrammingpay niay ythonpay siay unfay \n"
     ]
    }
   ],
   "source": [
    "def pig_latin(text):\n",
    "  say = \"\"\n",
    "  translated_word = []\n",
    "  # Separate the text into words\n",
    "  words = text.split(\" \")\n",
    "  for word in words:\n",
    "    # Create the pig latin word and add it to the list\n",
    "    translated_word = word[1:] + word[0]\n",
    "    translated_word = translated_word + \"ay\"\n",
    "    say = say + str(translated_word) + \" \"\n",
    "    # Turn the list back into a phrase\n",
    "  return say\n",
    "    \n",
    "print(pig_latin(\"hello how are you\")) # Should be \"ellohay owhay reaay ouyay\"\n",
    "print(pig_latin(\"programming in python is fun\")) # Should be \"rogrammingpay niay ythonpay siay unfay\"\n"
   ]
  },
  {
   "cell_type": "code",
   "execution_count": 6,
   "metadata": {},
   "outputs": [
    {
     "name": "stdout",
     "output_type": "stream",
     "text": [
      "['hello', 'how', 'are', 'you']\n",
      "hello\n",
      "elloay\n"
     ]
    }
   ],
   "source": [
    "#convert string to list that can be index\n",
    "sentence = \"hello how are you\"\n",
    "word_list = sentence.split(\" \")\n",
    "\n",
    "print(word_list)\n",
    "type(word_list)\n",
    "print(word_list[0])\n",
    "translated_word = word_list[0]\n",
    "translated_word = translated_word[1:]\n",
    "translated_word = translated_word + \"ay\"\n",
    "print(translated_word)\n",
    "\n",
    "#convert word to pig latin"
   ]
  },
  {
   "cell_type": "markdown",
   "metadata": {},
   "source": [
    "Do not use append on string.  It only works with strings.   Duh!"
   ]
  }
 ],
 "metadata": {
  "kernelspec": {
   "display_name": "Python 3",
   "language": "python",
   "name": "python3"
  },
  "language_info": {
   "name": ""
  }
 },
 "nbformat": 4,
 "nbformat_minor": 4
}
