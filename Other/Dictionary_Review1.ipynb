{
 "cells": [
  {
   "cell_type": "markdown",
   "metadata": {},
   "source": [
    "The email_list function receives a dictionary, which contains domain names as keys, and a list of users as values. Fill in the blanks to generate a list that contains complete email addresses (e.g. diana.prince@gmail.com).\n"
   ]
  },
  {
   "cell_type": "code",
   "execution_count": null,
   "metadata": {},
   "outputs": [],
   "source": [
    "def email_list(domains):\n",
    "    emails = []\n",
    "    for ___:\n",
    "      for user in users:\n",
    "        emails.___\n",
    "    return(emails)\n",
    "print(email_list({\"gmail.com\": [\"clark.kent\", \"diana.prince\", \"peter.parker\"], \"yahoo.com\": [\"barbara.gordon\", \"jean.grey\"], \"hotmail.com\": [\"bruce.wayne\"]}))"
   ]
  },
  {
   "cell_type": "code",
   "execution_count": 22,
   "metadata": {},
   "outputs": [
    {
     "name": "stdout",
     "output_type": "stream",
     "text": [
      "['clark.kent@gmail.com', 'diana.prince@gmail.com', 'peter.parker@gmail.com', 'barbara.gordon@yahoo.com', 'jean.grey@yahoo.com']\n"
     ]
    }
   ],
   "source": [
    "domains = {\"gmail.com\": [\"clark.kent\", \"diana.prince\", \"peter.parker\"], \"yahoo.com\": [\"barbara.gordon\", \"jean.grey\"]}\n",
    "#print (domains.keys())\n",
    "emails = []\n",
    "for x in domains:\n",
    "    #print(x)\n",
    "    users = domains[x]\n",
    "    #print(users)\n",
    "    for user in users:\n",
    "        user_email = (str(user) + \"@\" + str(x))\n",
    "        emails.append(user_email)\n",
    "print(emails)"
   ]
  },
  {
   "cell_type": "code",
   "execution_count": 21,
   "metadata": {},
   "outputs": [
    {
     "name": "stdout",
     "output_type": "stream",
     "text": [
      "['peter.parker@gmail.com', 'jean.grey@yahoo.com', 'clark.kent@gmail.com', 'diana.prince@gmail.com', 'peter.parker@gmail.com', 'barbara.gordon@yahoo.com', 'jean.grey@yahoo.com']\n"
     ]
    }
   ],
   "source": [
    "domains = {\"gmail.com\": [\"clark.kent\", \"diana.prince\", \"peter.parker\"], \"yahoo.com\": [\"barbara.gordon\", \"jean.grey\"]}\n",
    "for x in domains:\n",
    "    #print (x)\n",
    "    users = domains[x]\n",
    "    #print(users)\n",
    "    for user in users:\n",
    "        user_email = (str(user) + \"@\" + str(x))\n",
    "        emails.append(user_email)\n",
    "        #print(user_email)\n",
    "        #print(user)\n",
    "        #For some reason this is not iterating over list\n",
    "print(emails)"
   ]
  },
  {
   "cell_type": "code",
   "execution_count": null,
   "metadata": {},
   "outputs": [],
   "source": []
  },
  {
   "cell_type": "code",
   "execution_count": null,
   "metadata": {},
   "outputs": [],
   "source": [
    "def email_list(domains):\n",
    "    emails = []\n",
    "    for ___:\n",
    "      for user in users:\n",
    "        emails.___\n",
    "    return(emails)\n",
    "print(email_list({\"gmail.com\": [\"clark.kent\", \"diana.prince\", \"peter.parker\"], \"yahoo.com\": [\"barbara.gordon\", \"jean.grey\"], \"hotmail.com\": [\"bruce.wayne\"]}))"
   ]
  }
 ],
 "metadata": {
  "kernelspec": {
   "display_name": "Python 3",
   "language": "python",
   "name": "python3"
  },
  "language_info": {
   "name": ""
  }
 },
 "nbformat": 4,
 "nbformat_minor": 4
}
