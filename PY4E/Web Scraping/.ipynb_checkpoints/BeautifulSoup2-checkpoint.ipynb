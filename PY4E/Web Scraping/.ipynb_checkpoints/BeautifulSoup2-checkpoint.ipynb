{
 "cells": [
  {
   "cell_type": "code",
   "execution_count": 1,
   "metadata": {},
   "outputs": [
    {
     "name": "stdout",
     "output_type": "stream",
     "text": [
      "Retrieving: http://py4e-data.dr-chuck.net/known_by_Fikret.html\n"
     ]
    }
   ],
   "source": [
    "import urllib.request, urllib.parse, urllib.error\n",
    "from bs4 import BeautifulSoup\n",
    "import ssl\n",
    "\n",
    "# Ignore SSL certificate errors\n",
    "ctx = ssl.create_default_context()\n",
    "ctx.check_hostname = False\n",
    "ctx.verify_mode = ssl.CERT_NONE\n",
    "\n",
    "#url = input('Enter - ')\n",
    "url = \"http://py4e-data.dr-chuck.net/known_by_Fikret.html\"\n",
    "\n",
    "print(f\"Retrieving: {url}\")\n",
    "\n",
    "html = urllib.request.urlopen(url, context=ctx).read()\n",
    "soup = BeautifulSoup(html, 'html.parser')\n",
    "\n",
    "#count = input(\"Enter Count:\")\n",
    "count = 4\n",
    "\n",
    "#position = input(\"Enter Position:\")\n",
    "position = 3"
   ]
  },
  {
   "cell_type": "code",
   "execution_count": 4,
   "metadata": {},
   "outputs": [],
   "source": [
    "# Retrieve all of the anchor tags\n",
    "tags = soup('a')\n",
    "\n",
    "\n",
    "\n",
    "#for tag in tags:\n",
    "    #print(tag.get('href', None))\n",
    "    #print(tags[3])"
   ]
  },
  {
   "cell_type": "code",
   "execution_count": 6,
   "metadata": {},
   "outputs": [
    {
     "name": "stdout",
     "output_type": "stream",
     "text": [
      "4\n"
     ]
    }
   ],
   "source": [
    "print(count)\n",
    "while (count < 4):\n",
    "    print(\"test\")\n",
    "    #tags = soup('a')\n",
    "    #url = tags[position]\n",
    "    #print(f\"Retrieving: {url}\")\n",
    "    \n",
    "    #html = urllib.request.urlopen(url, context=ctx).read()\n",
    "    #soup = BeautifulSoup(html, 'html.parser')\n",
    "    \n",
    "    count = count - 1\n",
    "        \n",
    "\n",
    "        \n",
    "\n",
    " \n"
   ]
  },
  {
   "cell_type": "code",
   "execution_count": null,
   "metadata": {},
   "outputs": [],
   "source": [
    "count = 0\n",
    "\n",
    "while (count < 9):\n",
    "    print (\"The count is:\", count)\n",
    "    count = count + 1"
   ]
  },
  {
   "cell_type": "code",
   "execution_count": null,
   "metadata": {},
   "outputs": [],
   "source": []
  }
 ],
 "metadata": {
  "kernelspec": {
   "display_name": "Python 3",
   "language": "python",
   "name": "python3"
  },
  "language_info": {
   "codemirror_mode": {
    "name": "ipython",
    "version": 3
   },
   "file_extension": ".py",
   "mimetype": "text/x-python",
   "name": "python",
   "nbconvert_exporter": "python",
   "pygments_lexer": "ipython3",
   "version": "3.7.3"
  }
 },
 "nbformat": 4,
 "nbformat_minor": 4
}
