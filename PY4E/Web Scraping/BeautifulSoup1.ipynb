{
 "cells": [
  {
   "cell_type": "code",
   "execution_count": 29,
   "metadata": {},
   "outputs": [],
   "source": [
    "from urllib.request import urlopen\n",
    "from bs4 import BeautifulSoup as bs\n",
    "import ssl\n",
    "\n"
   ]
  },
  {
   "cell_type": "code",
   "execution_count": 30,
   "metadata": {},
   "outputs": [],
   "source": [
    "# Ignore SSL certificate errors\n",
    "ctx = ssl.create_default_context()\n",
    "ctx.check_hostname = False\n",
    "ctx.verify_mode = ssl.CERT_NONE\n",
    "\n"
   ]
  },
  {
   "cell_type": "code",
   "execution_count": 31,
   "metadata": {},
   "outputs": [
    {
     "name": "stdout",
     "output_type": "stream",
     "text": [
      "50\n"
     ]
    }
   ],
   "source": [
    "#Sample Data\n",
    "#url = \"http://py4e-data.dr-chuck.net/comments_42.html\"\n",
    "\n",
    "#Actual Data\n",
    "url = \"http://py4e-data.dr-chuck.net/comments_376908.html\"\n",
    "\n",
    "html = urlopen(url, context=ctx).read()\n",
    "soup = bs(html, \"html.parser\")\n",
    "\n",
    "comments = soup('span')\n",
    "\n",
    "print(len(comments))\n"
   ]
  },
  {
   "cell_type": "code",
   "execution_count": 32,
   "metadata": {},
   "outputs": [
    {
     "name": "stdout",
     "output_type": "stream",
     "text": [
      "[<span class=\"comments\">93</span>, <span class=\"comments\">93</span>, <span class=\"comments\">91</span>, <span class=\"comments\">90</span>, <span class=\"comments\">89</span>, <span class=\"comments\">86</span>, <span class=\"comments\">86</span>, <span class=\"comments\">85</span>, <span class=\"comments\">80</span>, <span class=\"comments\">79</span>, <span class=\"comments\">78</span>, <span class=\"comments\">77</span>, <span class=\"comments\">75</span>, <span class=\"comments\">75</span>, <span class=\"comments\">72</span>, <span class=\"comments\">71</span>, <span class=\"comments\">71</span>, <span class=\"comments\">68</span>, <span class=\"comments\">63</span>, <span class=\"comments\">63</span>, <span class=\"comments\">63</span>, <span class=\"comments\">62</span>, <span class=\"comments\">58</span>, <span class=\"comments\">57</span>, <span class=\"comments\">49</span>, <span class=\"comments\">49</span>, <span class=\"comments\">48</span>, <span class=\"comments\">45</span>, <span class=\"comments\">45</span>, <span class=\"comments\">45</span>, <span class=\"comments\">42</span>, <span class=\"comments\">40</span>, <span class=\"comments\">39</span>, <span class=\"comments\">39</span>, <span class=\"comments\">36</span>, <span class=\"comments\">34</span>, <span class=\"comments\">29</span>, <span class=\"comments\">25</span>, <span class=\"comments\">22</span>, <span class=\"comments\">21</span>, <span class=\"comments\">20</span>, <span class=\"comments\">20</span>, <span class=\"comments\">15</span>, <span class=\"comments\">14</span>, <span class=\"comments\">13</span>, <span class=\"comments\">11</span>, <span class=\"comments\">10</span>, <span class=\"comments\">5</span>, <span class=\"comments\">3</span>, <span class=\"comments\">1</span>]\n"
     ]
    }
   ],
   "source": [
    "print(comments)"
   ]
  },
  {
   "cell_type": "code",
   "execution_count": 27,
   "metadata": {},
   "outputs": [],
   "source": [
    "for comment in comments:\n",
    "    #print(comment)\n",
    "    #value = comment.find(‘span’, class = ‘comments’).get_text()\n",
    "    #value = comment.find(span class = ‘comments’)\n",
    "    #value = comment.find('span', {'class': 'comments'})\n",
    "    value = comment.find('span', {'class': 'comments'})\n",
    "    #print(type(value))\n",
    "    #print(value.get_text())\n",
    "    "
   ]
  },
  {
   "cell_type": "code",
   "execution_count": 36,
   "metadata": {},
   "outputs": [
    {
     "name": "stdout",
     "output_type": "stream",
     "text": [
      "['93', '93', '91', '90', '89', '86', '86', '85', '80', '79', '78', '77', '75', '75', '72', '71', '71', '68', '63', '63', '63', '62', '58', '57', '49', '49', '48', '45', '45', '45', '42', '40', '39', '39', '36', '34', '29', '25', '22', '21', '20', '20', '15', '14', '13', '11', '10', '5', '3', '1']\n"
     ]
    }
   ],
   "source": [
    "numbers = []\n",
    "for comment in comments:\n",
    "    numbers.append(comment.getText().split('\\n')[0])\n",
    "print(numbers)"
   ]
  },
  {
   "cell_type": "code",
   "execution_count": 38,
   "metadata": {},
   "outputs": [
    {
     "name": "stdout",
     "output_type": "stream",
     "text": [
      "[93, 93, 91, 90, 89, 86, 86, 85, 80, 79, 78, 77, 75, 75, 72, 71, 71, 68, 63, 63, 63, 62, 58, 57, 49, 49, 48, 45, 45, 45, 42, 40, 39, 39, 36, 34, 29, 25, 22, 21, 20, 20, 15, 14, 13, 11, 10, 5, 3, 1]\n",
      "2545\n"
     ]
    }
   ],
   "source": [
    "numbers = []\n",
    "for comment in comments:\n",
    "    number = int(comment.getText().split('\\n')[0])\n",
    "    numbers.append(number)\n",
    "print(numbers)\n",
    "total = sum(numbers)\n",
    "print(total)"
   ]
  },
  {
   "cell_type": "code",
   "execution_count": null,
   "metadata": {},
   "outputs": [],
   "source": []
  }
 ],
 "metadata": {
  "kernelspec": {
   "display_name": "Python 3",
   "language": "python",
   "name": "python3"
  },
  "language_info": {
   "codemirror_mode": {
    "name": "ipython",
    "version": 3
   },
   "file_extension": ".py",
   "mimetype": "text/x-python",
   "name": "python",
   "nbconvert_exporter": "python",
   "pygments_lexer": "ipython3",
   "version": "3.7.3"
  }
 },
 "nbformat": 4,
 "nbformat_minor": 4
}
