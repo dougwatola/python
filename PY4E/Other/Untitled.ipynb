{
 "cells": [
  {
   "cell_type": "code",
   "execution_count": 1,
   "metadata": {},
   "outputs": [
    {
     "name": "stdout",
     "output_type": "stream",
     "text": [
      "WTF\n"
     ]
    }
   ],
   "source": [
    "print(\"WTF\")"
   ]
  },
  {
   "cell_type": "code",
   "execution_count": 7,
   "metadata": {},
   "outputs": [
    {
     "name": "stdout",
     "output_type": "stream",
     "text": [
      "3.0\n",
      "5.0\n",
      "6.0\n",
      "6.0\n"
     ]
    }
   ],
   "source": [
    "n = 6\n",
    "sum = 0\n",
    "divisor = 2\n",
    "result = 0\n",
    "\n",
    "\n",
    "while (n >= divisor):\n",
    "    if ((n % divisor) == 0):\n",
    "        result = (n / divisor)\n",
    "        sum = sum + result\n",
    "        divisor = divisor + 1\n",
    "        #print (result)\n",
    "        print (sum)\n",
    "        #print(\"WTF\")\n",
    "        \n",
    "    else:\n",
    "        divisor = divisor + 1\n",
    "\n",
    "print (sum) "
   ]
  },
  {
   "cell_type": "code",
   "execution_count": null,
   "metadata": {},
   "outputs": [],
   "source": []
  }
 ],
 "metadata": {
  "kernelspec": {
   "display_name": "Python 3",
   "language": "python",
   "name": "python3"
  },
  "language_info": {
   "codemirror_mode": {
    "name": "ipython",
    "version": 3
   },
   "file_extension": ".py",
   "mimetype": "text/x-python",
   "name": "python",
   "nbconvert_exporter": "python",
   "pygments_lexer": "ipython3",
   "version": "3.7.3"
  }
 },
 "nbformat": 4,
 "nbformat_minor": 4
}
