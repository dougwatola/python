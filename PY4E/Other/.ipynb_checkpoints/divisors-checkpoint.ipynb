{
 "cells": [
  {
   "cell_type": "code",
   "execution_count": null,
   "metadata": {},
   "outputs": [],
   "source": [
    "def sum_divisors(n):\n",
    "    sum = 0\n",
    "    divisor = 2\n",
    "    while ((n / divisor) > 0):\n",
    "        sum = sum + (n/divisor)\n",
    "        divisor = divisor + 1\n",
    "    return sum\n",
    "    \n",
    "print (sum_divisors(36))"
   ]
  },
  {
   "cell_type": "code",
   "execution_count": 8,
   "metadata": {},
   "outputs": [
    {
     "name": "stdout",
     "output_type": "stream",
     "text": [
      "True\n",
      "18\n",
      "True\n",
      "30\n",
      "True\n",
      "39\n"
     ]
    }
   ],
   "source": [
    "sum = 0\n",
    "divisor = 2\n",
    "\n",
    "n = 36\n",
    "\n",
    "print ((n % divisor) == 0)\n",
    "sum = sum + n//divisor\n",
    "divisor = divisor + 1\n",
    "print (sum)\n",
    "\n",
    "print ((n % divisor) == 0)\n",
    "sum = sum + n//divisor\n",
    "divisor = divisor +1\n",
    "print (sum)\n",
    "\n",
    "print ((n % divisor) == 0)\n",
    "sum = sum + n//divisor\n",
    "divisor = divisor +1\n",
    "print (sum)"
   ]
  },
  {
   "cell_type": "code",
   "execution_count": null,
   "metadata": {},
   "outputs": [],
   "source": [
    "n = 36\n",
    "sum = 0\n",
    "divisor = 2\n",
    "\n",
    "    while ((n / divisor) > 0):\n",
    "        result = (n/divisor)\n",
    "        sum = sum + (n/divisor)\n",
    "        divisor = divisor + 1\n",
    "        print result\n",
    "        \n",
    "\n",
    "\n"
   ]
  },
  {
   "cell_type": "code",
   "execution_count": null,
   "metadata": {},
   "outputs": [],
   "source": [
    "n = 6\n",
    "sum = 0\n",
    "divisor = 2\n",
    "result = 0\n",
    "\n",
    "while ((n/divisor) > 0):\n",
    "    if ((n % divisor) == 0):\n",
    "        result = (n / divisor)\n",
    "        sum = sum + result\n",
    "        divisor = divisor + 1\n",
    "        #print (result)\n",
    "        #print (sum)\n",
    "        \n",
    "    else:\n",
    "        divisor = divisor + 1\n",
    "\n",
    "print (sum) "
   ]
  },
  {
   "cell_type": "code",
   "execution_count": null,
   "metadata": {},
   "outputs": [],
   "source": [
    "n = 6\n",
    "sum = 0\n",
    "divisor = 2\n",
    "result = 0\n",
    "\n",
    "\n",
    "while (n > divisor):\n",
    "    if (divisor > n):\n",
    "        result = (n / divisor)\n",
    "        sum = sum + result\n",
    "        divisor = divisor + 1\n",
    "        #print (result)\n",
    "        #print (sum)\n",
    "        print(\"What?\")\n",
    "        \n",
    "    else:\n",
    "        divisor = divisor + 1\n",
    "\n",
    "print (sum) "
   ]
  },
  {
   "cell_type": "code",
   "execution_count": null,
   "metadata": {},
   "outputs": [],
   "source": []
  }
 ],
 "metadata": {
  "kernelspec": {
   "display_name": "Python 3",
   "language": "python",
   "name": "python3"
  },
  "language_info": {
   "codemirror_mode": {
    "name": "ipython",
    "version": 3
   },
   "file_extension": ".py",
   "mimetype": "text/x-python",
   "name": "python",
   "nbconvert_exporter": "python",
   "pygments_lexer": "ipython3",
   "version": "3.7.3"
  }
 },
 "nbformat": 4,
 "nbformat_minor": 4
}
