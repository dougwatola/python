{
 "cells": [
  {
   "cell_type": "code",
   "execution_count": null,
   "metadata": {},
   "outputs": [],
   "source": [
    "#name = input(\"Enter file:\")\n",
    "#if len(name) < 1 : name = \"mbox-short.txt\"\n",
    "\n",
    "name = \"mbox-short.txt\"\n",
    "fh = open(name)\n",
    "count = 0\n",
    "address_list = []\n",
    "mail_dict = dict()\n",
    "\n",
    "#Iterate through each line in the file\n",
    "for line in fh:\n",
    "    iterated_line = line.split()\n",
    "    #Test line to see if From is at the start of the line\n",
    "    #If so, increment count and print individual line\n",
    "    if line.startswith('From'):\n",
    "        line = line.rstrip()\n",
    "        address_list.append(iterated_line[1])\n",
    "        #print(iterated_line[1])\n",
    "        count = count + 1"
   ]
  }
 ],
 "metadata": {
  "kernelspec": {
   "display_name": "Python 3",
   "language": "python",
   "name": "python3"
  },
  "language_info": {
   "codemirror_mode": {
    "name": "ipython",
    "version": 3
   },
   "file_extension": ".py",
   "mimetype": "text/x-python",
   "name": "python",
   "nbconvert_exporter": "python",
   "pygments_lexer": "ipython3",
   "version": "3.7.3"
  }
 },
 "nbformat": 4,
 "nbformat_minor": 4
}
