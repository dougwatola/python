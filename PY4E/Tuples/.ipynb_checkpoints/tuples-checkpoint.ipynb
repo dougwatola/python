{
 "cells": [
  {
   "cell_type": "code",
   "execution_count": 31,
   "metadata": {},
   "outputs": [
    {
     "name": "stdout",
     "output_type": "stream",
     "text": [
      "['09:14:16', '18:10:48', '16:10:39', '15:46:24', '15:03:18', '14:50:18', '11:37:30', '11:35:08', '11:12:37', '11:11:52', '11:11:03', '11:10:22', '10:38:42', '10:17:43', '10:04:14', '09:05:31', '07:02:32', '06:08:27', '04:49:08', '04:33:44', '04:07:34', '19:51:21', '17:18:23', '17:07:00', '16:34:40', '16:29:07', '16:23:48']\n"
     ]
    }
   ],
   "source": [
    "#name = input(\"Enter file:\")\n",
    "#if len(name) < 1 : name = \"mbox-short.txt\"\n",
    "\n",
    "name = \"mbox-short.txt\"\n",
    "fh = open(name)\n",
    "count = 0\n",
    "address_list = []\n",
    "mail_dict = dict()\n",
    "hour_of_day_list = []\n",
    "\n",
    "#Iterate through each line in the file\n",
    "for line in fh:\n",
    "    line = line.rstrip()\n",
    "    iterated_line = line.split()\n",
    "    \n",
    "    #Test line to see if From is at the start of the line\n",
    "    #If so, increment count and print individual line\n",
    "    \n",
    "    #There are appreviated From lines that do not have a date stamp.\n",
    "    #We need to remove those lines to search for the hour information\n",
    "    \n",
    "    if line.startswith('From') and len(iterated_line)>5:\n",
    "        hour = iterated_line[5]\n",
    "        hour_of_day_list.append(hour)\n",
    "        count = count + 1\n",
    "        \n",
    "print(hour_of_day_list)"
   ]
  },
  {
   "cell_type": "code",
   "execution_count": 4,
   "metadata": {},
   "outputs": [
    {
     "name": "stdout",
     "output_type": "stream",
     "text": [
      "09:14:16\n",
      "['09', '14', '16']\n",
      "09\n"
     ]
    }
   ],
   "source": [
    "#Code testing to extract time information\n",
    "\n",
    "#hour_of_day_list = []\n",
    "line = \"From stephen.marquard@uct.ac.za Sat Jan  5 09:14:16 2008\"\n",
    "line = line.rstrip()\n",
    "iterated_line = line.split()\n",
    "time = iterated_line[5]\n",
    "print(time)\n",
    "\n",
    "time_list = time.split(':')\n",
    "print(time_list)\n",
    "print(time_list[0])\n",
    "\n",
    "#print(type(hour))\n",
    "\n",
    "#You cannot append a list with an index from another list\n",
    "#hour_of_day_list.append(hour) \n",
    "#print(iterated_line[5])\n",
    "#print(hour_of_day_list)\n",
    "#hour_extract = hour_of_day_list.split(':')"
   ]
  },
  {
   "cell_type": "code",
   "execution_count": null,
   "metadata": {},
   "outputs": [],
   "source": []
  }
 ],
 "metadata": {
  "kernelspec": {
   "display_name": "Python 3",
   "language": "python",
   "name": "python3"
  },
  "language_info": {
   "codemirror_mode": {
    "name": "ipython",
    "version": 3
   },
   "file_extension": ".py",
   "mimetype": "text/x-python",
   "name": "python",
   "nbconvert_exporter": "python",
   "pygments_lexer": "ipython3",
   "version": "3.7.3"
  }
 },
 "nbformat": 4,
 "nbformat_minor": 4
}
