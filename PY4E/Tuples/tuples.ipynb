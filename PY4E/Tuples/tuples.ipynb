{
 "cells": [
  {
   "cell_type": "code",
   "execution_count": 7,
   "metadata": {},
   "outputs": [
    {
     "name": "stdout",
     "output_type": "stream",
     "text": [
      "04 3\n",
      "06 1\n",
      "07 1\n",
      "09 2\n",
      "10 3\n",
      "11 6\n",
      "14 1\n",
      "15 2\n",
      "16 4\n",
      "17 2\n",
      "18 1\n",
      "19 1\n"
     ]
    }
   ],
   "source": [
    "#name = input(\"Enter file:\")\n",
    "#if len(name) < 1 : name = \"mbox-short.txt\"\n",
    "\n",
    "name = \"mbox-short.txt\"\n",
    "fh = open(name)\n",
    "\n",
    "hour_list=[]\n",
    "hour_occurrence = dict()\n",
    "\n",
    "# variable iterated_line is a list of elements derived from applying split method to line in file\n",
    "# variable time is the time derived from each valid line - denoted hh:mm:ss\n",
    "# variable time_list is derived from a split of the time string....we want to extract just the hour\n",
    "# variable hour is extracted from the time string\n",
    "# I am sure there has to be a better approach to this program\n",
    "\n",
    "# variable hour_list stores each instance an hour occurs\n",
    "# variable hour_occurrence is a dictionary that list the hour and the occurrence\n",
    "\n",
    "#Iterate through each line in the file\n",
    "for line in fh:\n",
    "    line = line.rstrip()\n",
    "    iterated_line = line.split()\n",
    "    \n",
    "    #Test line to see if From is at the start of the line\n",
    "    #If so, increment count and print individual line\n",
    "    \n",
    "    #There are appreviated From lines that do not have a date stamp.\n",
    "    #We need to remove those lines to search for the hour information\n",
    "    \n",
    "    if line.startswith('From') and len(iterated_line)>5:\n",
    "        time = iterated_line[5]\n",
    "        time_list = time.split(':')\n",
    "        hour = time_list[0]\n",
    "        hour_list.append(hour)\n",
    "\n",
    "# create occurence dictionary\n",
    "for hour in hour_list:\n",
    "    hour_occurrence[hour] = hour_occurrence.get(hour,0) + 1\n",
    "\n",
    "#variable hour_sorted is a list of hours sorted by occurrence\n",
    "hour_sorted = list()\n",
    "\n",
    "for key,val in hour_occurrence.items():\n",
    "    newtup = (key, val)   #reverse order so we can sort on value\n",
    "    hour_sorted.append(newtup)\n",
    "\n",
    "#sort hours by occurrences - values now show up first\n",
    "#hour_sorted = sorted(hour_sorted, reverse=True)\n",
    "hour_sorted = sorted(hour_sorted)\n",
    "\n",
    "for val,key in hour_sorted:\n",
    "    print(val,key)\n",
    "\n",
    "#print(hour)\n",
    "#print(hour_sorted)"
   ]
  },
  {
   "cell_type": "code",
   "execution_count": 3,
   "metadata": {},
   "outputs": [
    {
     "name": "stdout",
     "output_type": "stream",
     "text": [
      "09:14:16\n",
      "['09', '14', '16']\n",
      "09\n"
     ]
    }
   ],
   "source": [
    "#Code testing to extract time information\n",
    "\n",
    "#hour_of_day_list = []\n",
    "line = \"From stephen.marquard@uct.ac.za Sat Jan  5 09:14:16 2008\"\n",
    "line = line.rstrip()\n",
    "iterated_line = line.split()\n",
    "time = iterated_line[5]\n",
    "print(time)\n",
    "\n",
    "#use split to extract hour from a colon segmented string\n",
    "#time is the fifth index in the string...\n",
    "time_list = time.split(':')\n",
    "print(time_list)\n",
    "print(time_list[0])\n",
    "\n",
    "#print(type(hour))\n",
    "\n",
    "#You cannot append a list with an index from another list\n",
    "#hour_of_day_list.append(hour) \n",
    "#print(iterated_line[5])\n",
    "#print(hour_of_day_list)\n",
    "#hour_extract = hour_of_day_list.split(':')"
   ]
  },
  {
   "cell_type": "code",
   "execution_count": null,
   "metadata": {},
   "outputs": [],
   "source": []
  }
 ],
 "metadata": {
  "kernelspec": {
   "display_name": "Python 3",
   "language": "python",
   "name": "python3"
  },
  "language_info": {
   "codemirror_mode": {
    "name": "ipython",
    "version": 3
   },
   "file_extension": ".py",
   "mimetype": "text/x-python",
   "name": "python",
   "nbconvert_exporter": "python",
   "pygments_lexer": "ipython3",
   "version": "3.7.3"
  }
 },
 "nbformat": 4,
 "nbformat_minor": 4
}
