{
 "cells": [
  {
   "cell_type": "code",
   "execution_count": 56,
   "metadata": {},
   "outputs": [],
   "source": [
    "#Import relevant libraries\n",
    "from urllib.request import urlopen\n",
    "import urllib.request, urllib.parse, urllib.error\n",
    "#import xml.etree.ElementTree as ET\n",
    "from xml.etree.ElementTree import parse\n",
    "import ssl\n"
   ]
  },
  {
   "cell_type": "code",
   "execution_count": 57,
   "metadata": {},
   "outputs": [],
   "source": [
    "# Ignore SSL certificate errors\n",
    "ctx = ssl.create_default_context()\n",
    "ctx.check_hostname = False\n",
    "ctx.verify_mode = ssl.CERT_NONE"
   ]
  },
  {
   "cell_type": "code",
   "execution_count": 72,
   "metadata": {},
   "outputs": [
    {
     "name": "stdin",
     "output_type": "stream",
     "text": [
      "Enter -  http://py4e-data.dr-chuck.net/comments_42.xml\n"
     ]
    },
    {
     "name": "stdout",
     "output_type": "stream",
     "text": [
      "Retrieving  http://py4e-data.dr-chuck.net/comments_42.xml\n"
     ]
    }
   ],
   "source": [
    "#Actual Data\n",
    "#Prompt for URL for xml file and parse the XML\n",
    "\n",
    "link = input('Enter - ')\n",
    "url = urlopen(link)\n",
    "#url = urlopen('http://py4e-data.dr-chuck.net/comments_42.xml')\n",
    "xmldoc = parse(url)\n",
    "\n",
    "print(\"Retrieving \", link)"
   ]
  },
  {
   "cell_type": "code",
   "execution_count": 73,
   "metadata": {},
   "outputs": [
    {
     "name": "stdout",
     "output_type": "stream",
     "text": [
      "Count:  50\n"
     ]
    }
   ],
   "source": [
    "#Determine the number of count entries in xml tree\n",
    "counts = xmldoc.findall('.//count')\n",
    "#counts = xml_tree.findall('./comments/comment/count')\n",
    "print(\"Count: \",(len(counts)))"
   ]
  },
  {
   "cell_type": "code",
   "execution_count": 68,
   "metadata": {},
   "outputs": [],
   "source": [
    "#This will be a runninng tally of numbers extracted from xml\n",
    "count_list=[]\n",
    "\n",
    "\n",
    "for item in xmldoc.iterfind('comments/comment'):\n",
    "    count_number = int(item.findtext('count'))\n",
    "    count_list.append(count_number)\n",
    "    "
   ]
  },
  {
   "cell_type": "code",
   "execution_count": 74,
   "metadata": {},
   "outputs": [
    {
     "name": "stdout",
     "output_type": "stream",
     "text": [
      "Sum:  2553\n"
     ]
    }
   ],
   "source": [
    "print('Sum: ',(sum(count_list)))"
   ]
  },
  {
   "cell_type": "code",
   "execution_count": null,
   "metadata": {},
   "outputs": [],
   "source": []
  }
 ],
 "metadata": {
  "kernelspec": {
   "display_name": "Python 3",
   "language": "python",
   "name": "python3"
  },
  "language_info": {
   "name": ""
  }
 },
 "nbformat": 4,
 "nbformat_minor": 4
}
