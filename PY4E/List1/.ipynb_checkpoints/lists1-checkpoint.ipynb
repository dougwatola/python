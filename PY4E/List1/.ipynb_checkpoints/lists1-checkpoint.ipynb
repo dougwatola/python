{
 "cells": [
  {
   "cell_type": "code",
   "execution_count": null,
   "metadata": {},
   "outputs": [],
   "source": [
    "#fname = \"romeo.txt\"\n",
    "fname = input(\"Enter file name: \")\n",
    "fh = open(fname)\n",
    "#print(fh)\n",
    "final_list=[]\n",
    "iterate_list=[]\n"
   ]
  },
  {
   "cell_type": "code",
   "execution_count": null,
   "metadata": {},
   "outputs": [],
   "source": [
    "#for loop to iterate through each line in txt file\n",
    "\n",
    "for line in fh:\n",
    "    #print(line.rstrip())\n",
    "    iterate_list= line.split()\n",
    "\n",
    "    #for loop to iterate through each word in line\n",
    "#remove duplicate words by comparing word in iterate_list to a final_list\n",
    "\n",
    "    for i in iterate_list:\n",
    "        if (i not in final_list):  #run comparison \n",
    "            final_list.append(i)\n",
    "\n",
    "#sort and print final list           \n",
    "final_list.sort()    \n",
    "print(final_list)\n",
    "    "
   ]
  },
  {
   "cell_type": "code",
   "execution_count": 24,
   "metadata": {},
   "outputs": [
    {
     "name": "stdout",
     "output_type": "stream",
     "text": [
      "['Hey', \"It's\", 'Fat', 'Albert']\n"
     ]
    }
   ],
   "source": [
    "#TEST CODE\n",
    "\n",
    "#test_string = \"Hey Hey Hey It's Fat Albert\"\n",
    "#test_list = test_string.split()\n",
    "#final_list= []\n",
    "\n",
    "\n",
    "\n",
    "#for i in test_list:\n",
    "    #if (i not in final_list):\n",
    "        #final_list.append(i)\n",
    "\n",
    "#print(final_list)"
   ]
  },
  {
   "cell_type": "code",
   "execution_count": null,
   "metadata": {},
   "outputs": [],
   "source": []
  }
 ],
 "metadata": {
  "kernelspec": {
   "display_name": "Python 3",
   "language": "python",
   "name": "python3"
  },
  "language_info": {
   "codemirror_mode": {
    "name": "ipython",
    "version": 3
   },
   "file_extension": ".py",
   "mimetype": "text/x-python",
   "name": "python",
   "nbconvert_exporter": "python",
   "pygments_lexer": "ipython3",
   "version": "3.7.3"
  }
 },
 "nbformat": 4,
 "nbformat_minor": 4
}
