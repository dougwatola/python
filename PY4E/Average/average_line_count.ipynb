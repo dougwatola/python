{
 "cells": [
  {
   "cell_type": "code",
   "execution_count": null,
   "metadata": {},
   "outputs": [],
   "source": [
    "# Use the file name mbox-short.txt as the file name\n",
    "import re\n",
    "fname = input(\"Enter file name: \")\n",
    "fh = open(fname)\n",
    "# conf_total = 0\n",
    "# count = 0\n",
    "\n",
    "for line in fh:\n",
    "    if not line.startswith(\"X-DSPAM-Confidence:\") : continue\n",
    "    #conf_total = conf_total + re.findall(r\"[-+]?\\d*\\.\\d+|\\d+\", line)\n",
    "    count = count + 1\n",
    "    print(line)\n",
    "\n",
    "print(conf_total)\n",
    "print(count)\n",
    "print(\"Done\")"
   ]
  },
  {
   "cell_type": "code",
   "execution_count": null,
   "metadata": {},
   "outputs": [],
   "source": [
    "# Average spam confidence: 0.750718518519\n",
    "# Do not use the sum() function or a variable named sum in your solution.\n",
    "# mbox-short.txt\n",
    "\n",
    "# Notes:\n",
    "# conf_num = [float(i) for i in str.split() if i.isdigit()]"
   ]
  },
  {
   "cell_type": "code",
   "execution_count": 8,
   "metadata": {},
   "outputs": [
    {
     "name": "stdout",
     "output_type": "stream",
     "text": [
      "['0.8475']\n"
     ]
    }
   ],
   "source": [
    "import re\n",
    "string = \"X-DSPAM-Confidence:    0.8475\"\n",
    "test = re.findall(r\"[-+]?\\d*\\.\\d+|\\d+\", string)\n",
    "print(test)"
   ]
  },
  {
   "cell_type": "code",
   "execution_count": null,
   "metadata": {},
   "outputs": [],
   "source": []
  }
 ],
 "metadata": {
  "kernelspec": {
   "display_name": "Python 3",
   "language": "python",
   "name": "python3"
  },
  "language_info": {
   "codemirror_mode": {
    "name": "ipython",
    "version": 3
   },
   "file_extension": ".py",
   "mimetype": "text/x-python",
   "name": "python",
   "nbconvert_exporter": "python",
   "pygments_lexer": "ipython3",
   "version": "3.7.3"
  }
 },
 "nbformat": 4,
 "nbformat_minor": 4
}
