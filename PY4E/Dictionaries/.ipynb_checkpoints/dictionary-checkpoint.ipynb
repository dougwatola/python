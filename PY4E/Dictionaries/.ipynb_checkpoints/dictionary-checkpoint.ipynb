{
 "cells": [
  {
   "cell_type": "code",
   "execution_count": 17,
   "metadata": {},
   "outputs": [
    {
     "name": "stdout",
     "output_type": "stream",
     "text": [
      "cwen@iupui.edu 10\n"
     ]
    }
   ],
   "source": [
    "#name = input(\"Enter file:\")\n",
    "#if len(name) < 1 : name = \"mbox-short.txt\"\n",
    "\n",
    "fname = \"mbox-short.txt\"\n",
    "fh = open(fname)\n",
    "count = 0\n",
    "address_list = []\n",
    "mail_dict = dict()\n",
    "\n",
    "#Iterate through each line in the file\n",
    "for line in fh:\n",
    "    iterated_line = line.split()\n",
    "    #Test line to see if From is at the start of the line\n",
    "    #If so, increment count and print individual line\n",
    "    if line.startswith('From'):\n",
    "        line = line.rstrip()\n",
    "        address_list.append(iterated_line[1])\n",
    "        #print(iterated_line[1])\n",
    "        count = count + 1\n",
    "\n",
    "#create mail_dict with mail address and occurrence count by iterating through address_list        \n",
    "for address in address_list:\n",
    "    mail_dict[address] = mail_dict.get(address,0)+1\n",
    "    \n",
    "#determine maximum count for associated mail address\n",
    "\n",
    "bigcount = None\n",
    "bigaddress = None\n",
    "\n",
    "for address,count in mail_dict.items():\n",
    "    if bigcount is None or count > bigcount:\n",
    "        bigaddress = address\n",
    "        bigcount = count\n",
    "        \n",
    "print (bigaddress, bigcount)\n",
    "    "
   ]
  },
  {
   "cell_type": "code",
   "execution_count": null,
   "metadata": {},
   "outputs": [],
   "source": []
  }
 ],
 "metadata": {
  "kernelspec": {
   "display_name": "Python 3",
   "language": "python",
   "name": "python3"
  },
  "language_info": {
   "codemirror_mode": {
    "name": "ipython",
    "version": 3
   },
   "file_extension": ".py",
   "mimetype": "text/x-python",
   "name": "python",
   "nbconvert_exporter": "python",
   "pygments_lexer": "ipython3",
   "version": "3.7.3"
  }
 },
 "nbformat": 4,
 "nbformat_minor": 4
}
