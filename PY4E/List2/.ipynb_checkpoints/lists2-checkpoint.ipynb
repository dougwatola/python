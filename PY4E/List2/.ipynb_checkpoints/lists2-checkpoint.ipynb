{
 "cells": [
  {
   "cell_type": "code",
   "execution_count": null,
   "metadata": {},
   "outputs": [],
   "source": [
    "#fname = input(\"Enter file name: \")\n",
    "#if len(fname) < 1 : fname = \"mbox-short.txt\"\n",
    "fname = \"mbox-box.txt\"\n",
    "\n",
    "fh = open(fname)\n",
    "count = 0\n",
    "\n",
    "#Iterate through each line in the file\n",
    "for line in fh:\n",
    "    iterated_line = line.split()\n",
    "    \n",
    "    #Test line to see if From is at the start of the line\n",
    "    #If so, increment count and print individual line\n",
    "    if ('From' in iterated_line):\n",
    "        line = line.rstrip()\n",
    "        print(line)\n",
    "        count = count + 1\n",
    "\n",
    "\n",
    "\n",
    "print(\"There were\", count, \"lines in the file with From as the first word\")"
   ]
  },
  {
   "cell_type": "code",
   "execution_count": null,
   "metadata": {},
   "outputs": [],
   "source": [
    "fname = \"mbox-box.txt\"\n",
    "\n",
    "fh = open(fname)\n",
    "count = 0\n",
    "\n",
    "#Iterate through each line in the file\n",
    "for line in fh:\n",
    "    iterated_line = line.split()\n",
    "    #Test line to see if From is at the start of the line\n",
    "    #If so, increment count and print individual line\n",
    "    if line.startswith('From'):\n",
    "        line = line.rstrip()\n",
    "        print(line)\n",
    "        count = count + 1\n",
    "\n",
    "\n",
    "\n",
    "print(\"There were\", count, \"lines in the file with From as the first word\")"
   ]
  },
  {
   "cell_type": "code",
   "execution_count": null,
   "metadata": {},
   "outputs": [],
   "source": []
  },
  {
   "cell_type": "code",
   "execution_count": null,
   "metadata": {},
   "outputs": [],
   "source": []
  }
 ],
 "metadata": {
  "kernelspec": {
   "display_name": "Python 3",
   "language": "python",
   "name": "python3"
  },
  "language_info": {
   "codemirror_mode": {
    "name": "ipython",
    "version": 3
   },
   "file_extension": ".py",
   "mimetype": "text/x-python",
   "name": "python",
   "nbconvert_exporter": "python",
   "pygments_lexer": "ipython3",
   "version": "3.7.3"
  }
 },
 "nbformat": 4,
 "nbformat_minor": 4
}
